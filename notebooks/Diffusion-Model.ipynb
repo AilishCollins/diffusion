{
 "cells": [
  {
   "cell_type": "markdown",
   "id": "600f74c8-476f-4143-8774-5a88fcb5ab57",
   "metadata": {},
   "source": [
    "# A 1D Diffusion Model"
   ]
  },
  {
   "cell_type": "markdown",
   "id": "fa1197a8-4c09-4d74-af55-a025af2af871",
   "metadata": {},
   "source": [
    "C is going to be the concentration, x will be the spatial  dimension\n",
    "This is going to be a one dimensional model (think a graph with only x-y axes)"
   ]
  },
  {
   "cell_type": "markdown",
   "id": "e29c7b0b-c528-46d0-b09a-0704627c22e3",
   "metadata": {},
   "source": [
    "Here we develop a one-dimensional model of diffusion.\n",
    "It assumes a constant diffusivity.\n",
    "It uses a regular grid.\n",
    "It has fixed boundary conditions."
   ]
  },
  {
   "cell_type": "markdown",
   "id": "d2a3e86c-90dc-479d-b8ac-cfc21006e70e",
   "metadata": {},
   "source": [
    "The diffusion equation:\n",
    "\n",
    "$$ \\frac{\\partial C}{\\partial t} = D\\frac{\\partial^2 C}{\\partial x^2} $$\n",
    "\n",
    "The discretized version of the diffusion equation that we'll solve with our model:\n",
    "\n",
    "$$ C^{t+1}_x = C^t_x + {D \\Delta t \\over \\Delta x^2} (C^t_{x+1} - 2C^t_x + C^t_{x-1}) $$\n",
    "\n",
    "This is the explicit FTCS scheme as described in Slingerland and Kump (2011). (Or see Wikipedia.)"
   ]
  },
  {
   "cell_type": "markdown",
   "id": "b74e942a-fcb8-4464-a200-10218df690fe",
   "metadata": {},
   "source": [
    "We will use two libraries, Numpy (for arrays) and Matplotlib (for plotting) that aren't a part of the base Python distribution."
   ]
  },
  {
   "cell_type": "code",
   "execution_count": 1,
   "id": "8715c682-2245-4249-96c6-cb753b923cbc",
   "metadata": {},
   "outputs": [],
   "source": [
    "import numpy as np\n",
    "import matplotlib.pyplot as plt "
   ]
  },
  {
   "cell_type": "markdown",
   "id": "dca75423-2281-4a0a-a521-6695dbbfb113",
   "metadata": {},
   "source": [
    "Set two fixed model parameters, the diffusivity and the size of the model domain."
   ]
  },
  {
   "cell_type": "code",
   "execution_count": 2,
   "id": "a3742e4d-d4f7-4c20-b1ab-89cc57a98e5e",
   "metadata": {},
   "outputs": [],
   "source": [
    "D = 100\n",
    "Lx = 300"
   ]
  },
  {
   "cell_type": "markdown",
   "id": "2cfae635-1672-4ead-bde2-5ff8a8fa52a2",
   "metadata": {},
   "source": [
    "D is diffusivity, Lx is the size of the model domain"
   ]
  },
  {
   "cell_type": "markdown",
   "id": "7a4a0e6c-b4b0-47be-af80-7921a8ed858b",
   "metadata": {},
   "source": [
    "Next, set up the model grid using a NumPy array."
   ]
  },
  {
   "cell_type": "code",
   "execution_count": 3,
   "id": "bf8cee20-11db-4e21-a79c-27ef9756eb5e",
   "metadata": {},
   "outputs": [],
   "source": [
    "dx = 0.5\n",
    "x = np.arange(start=0, stop=Lx, step=dx)\n",
    "nx = len(x)"
   ]
  },
  {
   "cell_type": "code",
   "execution_count": 4,
   "id": "31630b4b-f03a-4763-a7b2-2dae67e811f9",
   "metadata": {},
   "outputs": [
    {
     "name": "stdout",
     "output_type": "stream",
     "text": [
      "Variable   Type       Data/Info\n",
      "-------------------------------\n",
      "D          int        100\n",
      "Lx         int        300\n",
      "dx         float      0.5\n",
      "np         module     <module 'numpy' from '/op<...>kages/numpy/__init__.py'>\n",
      "nx         int        600\n",
      "plt        module     <module 'matplotlib.pyplo<...>es/matplotlib/pyplot.py'>\n",
      "x          ndarray    600: 600 elems, type `float64`, 4800 bytes\n"
     ]
    }
   ],
   "source": [
    "whos"
   ]
  },
  {
   "cell_type": "markdown",
   "id": "491bc107-97d5-4120-b97d-c0af6923bfa1",
   "metadata": {},
   "source": [
    "dx is the grid spacing (x axis is spaced out in 0.5 units).\n",
    "\n",
    "\"arange\" is array range -- arange makes an array based on the given range (start at 0, stop at Lx [300], with a step of dx [0.5].\n",
    "\n",
    "\"len\" is the length function -- it gives a count of the number of items in x (the created array).\n",
    "\n",
    "nx is the number of elements within our array \"x\"."
   ]
  },
  {
   "cell_type": "code",
   "execution_count": 6,
   "id": "f9d25ae0-57fd-4afb-ab09-c59c33f6033a",
   "metadata": {},
   "outputs": [
    {
     "data": {
      "text/plain": [
       "np.float64(0.0)"
      ]
     },
     "execution_count": 6,
     "metadata": {},
     "output_type": "execute_result"
    }
   ],
   "source": [
    "x[0]"
   ]
  },
  {
   "cell_type": "code",
   "execution_count": 7,
   "id": "ace1d7d4-c58a-4692-9d13-0f3a7901d081",
   "metadata": {},
   "outputs": [
    {
     "data": {
      "text/plain": [
       "np.float64(299.5)"
      ]
     },
     "execution_count": 7,
     "metadata": {},
     "output_type": "execute_result"
    }
   ],
   "source": [
    "x[nx-1]"
   ]
  },
  {
   "cell_type": "code",
   "execution_count": 8,
   "id": "58a00a54-b28e-487b-9513-20d4055b6fea",
   "metadata": {},
   "outputs": [
    {
     "data": {
      "text/plain": [
       "array([0. , 0.5, 1. , 1.5, 2. ])"
      ]
     },
     "execution_count": 8,
     "metadata": {},
     "output_type": "execute_result"
    }
   ],
   "source": [
    "x[0:5]"
   ]
  },
  {
   "cell_type": "markdown",
   "id": "44b952c2-a1f9-4dea-ad54-e0eb7f54a1f9",
   "metadata": {},
   "source": [
    "Set the initial concentration profile for the model.\n",
    "The concentration `C` is a step function with a high value on the left, and a low value on the right, and the step at the center of the domain."
   ]
  },
  {
   "cell_type": "code",
   "execution_count": 10,
   "id": "d8dc247a-51a6-4956-bd01-9071a4d19773",
   "metadata": {},
   "outputs": [],
   "source": [
    "C = np.zeros_like(x)\n",
    "C_left = 500\n",
    "C_right = 0\n",
    "C[x <= Lx//2] = C_left\n",
    "C[x > Lx//2] = C_right"
   ]
  },
  {
   "cell_type": "markdown",
   "id": "56340b8a-28fe-437d-bf8b-fb1e82473e3b",
   "metadata": {},
   "source": [
    "\"zeros\" function makes an array of 0s.\n",
    "\n",
    "\"zeros_like\" function makes an array similar to another -- in this case ther are 600 elements that are all 0.\n",
    "\n",
    "On the left side of the function (the plot), C will have a value of 500. On the right side of the function, C will have a value of 0.\n",
    "\n",
    "For values of x that are less than or equal to half the domain size, C will have a value of 500.\n",
    "\n",
    "For values of x that are greater than half the domain size, C will have a value of 0."
   ]
  },
  {
   "cell_type": "code",
   "execution_count": 11,
   "id": "c61b994f-c41a-4d81-b007-62465f3ca1d4",
   "metadata": {},
   "outputs": [
    {
     "data": {
      "text/plain": [
       "array([500., 500., 500., 500., 500.])"
      ]
     },
     "execution_count": 11,
     "metadata": {},
     "output_type": "execute_result"
    }
   ],
   "source": [
    "C[0:5]"
   ]
  },
  {
   "cell_type": "markdown",
   "id": "dd253453-f19a-44d1-87fd-136cb5e97149",
   "metadata": {},
   "source": [
    "Plot the initial profile"
   ]
  },
  {
   "cell_type": "code",
   "execution_count": 15,
   "id": "6663fb5d-b1b9-4512-8d5a-f0afb5ce0a34",
   "metadata": {},
   "outputs": [
    {
     "data": {
      "text/plain": [
       "Text(0.5, 1.0, 'Initial Concentration Profile')"
      ]
     },
     "execution_count": 15,
     "metadata": {},
     "output_type": "execute_result"
    },
    {
     "data": {
      "image/png": "[encoded data removed]",
      "text/plain": [
       "<Figure size 640x480 with 1 Axes>"
      ]
     },
     "metadata": {},
     "output_type": "display_data"
    }
   ],
   "source": [
    "plt.figure()\n",
    "plt.plot(x, C, \"r\")\n",
    "plt.xlabel(\"x\")\n",
    "plt.ylabel(\"C\")\n",
    "plt.title(\"Initial Concentration Profile\")"
   ]
  },
  {
   "cell_type": "markdown",
   "id": "dda3e0dd-da6b-486e-bce7-8680d6cf8ef1",
   "metadata": {},
   "source": [
    "Set the start time of the model and the number of time steps.\n",
    "\n",
    "Calculate a stable time step for the model using a stability criterion."
   ]
  },
  {
   "cell_type": "code",
   "execution_count": 16,
   "id": "4269f9d7-e619-493e-8b9b-53c9c7b295f7",
   "metadata": {},
   "outputs": [],
   "source": [
    "time = 0\n",
    "nt = 5000\n",
    "dt = 0.5 * dx**2 / D"
   ]
  },
  {
   "cell_type": "markdown",
   "id": "96694bf6-9750-4178-997e-2736e95b7879",
   "metadata": {},
   "source": [
    "** Is a power -- dx**2 = dx^2\n",
    "\n",
    "nt is the number of steps or iterations of time."
   ]
  },
  {
   "cell_type": "code",
   "execution_count": 17,
   "id": "585e40ca-8e10-4901-8f21-fe4d671d3739",
   "metadata": {},
   "outputs": [
    {
     "data": {
      "text/plain": [
       "0.00125"
      ]
     },
     "execution_count": 17,
     "metadata": {},
     "output_type": "execute_result"
    }
   ],
   "source": [
    "dt"
   ]
  },
  {
   "cell_type": "markdown",
   "id": "175eb6aa-389d-466f-ba76-b0bf2dcc7a32",
   "metadata": {},
   "source": [
    "Loop over the time steps of the model, solving the diffusion equation using the FTCS explicit scheme described above.\n",
    "\n",
    "The boundary conditions are fixed, so reset them at each time step."
   ]
  },
  {
   "cell_type": "code",
   "execution_count": 18,
   "id": "cb747d03-f7e4-4932-9dad-2fc1411ba54a",
   "metadata": {},
   "outputs": [],
   "source": [
    "for t in range(0, nt):\n",
    "    C += D * dt / dx**2 * (np.roll(C, -1) - 2*C + np.roll(C, 1))\n",
    "    C[0] = C_left\n",
    "    C[-1] = C_right"
   ]
  },
  {
   "cell_type": "markdown",
   "id": "4bbe213c-66af-4ffc-bab2-2692ae8ccc72",
   "metadata": {},
   "source": [
    "\"for\" function is used to execute loops a set number of times.\n",
    "\n",
    "\"t\" is our loop counter.\n",
    "\n",
    "\"+=\" operator adds a value to the object and changes the object to have a new value -- C will become the initial value of C plus the expression.\n",
    "\n",
    "\"np.roll\" function shifts by 1 -- the current expression creates a loop in the timeline, so the following two expressions resolve the end caps."
   ]
  },
  {
   "cell_type": "markdown",
   "id": "37ae9dbc-62f1-4d1c-a518-c758ac3869a4",
   "metadata": {},
   "source": [
    "Plot the result."
   ]
  },
  {
   "cell_type": "code",
   "execution_count": 19,
   "id": "550c6a9b-bdd5-4ca3-a608-e4b2c53e93b1",
   "metadata": {},
   "outputs": [
    {
     "data": {
      "text/plain": [
       "Text(0.5, 1.0, 'Final Concentration Profile')"
      ]
     },
     "execution_count": 19,
     "metadata": {},
     "output_type": "execute_result"
    },
    {
     "data": {
      "image/png": "[encoded data removed]",
      "text/plain": [
       "<Figure size 640x480 with 1 Axes>"
      ]
     },
     "metadata": {},
     "output_type": "display_data"
    }
   ],
   "source": [
    "plt.figure()\n",
    "plt.plot(x, C, \"b\")\n",
    "plt.xlabel(\"x\")\n",
    "plt.ylabel(\"C\")\n",
    "plt.title(\"Final Concentration Profile\")"
   ]
  },
  {
   "cell_type": "markdown",
   "id": "b676bc17-1060-4700-b5ef-fe7aa7c5c419",
   "metadata": {},
   "source": [
    "An example of how \"n.roll\" works:"
   ]
  },
  {
   "cell_type": "code",
   "execution_count": 21,
   "id": "95c679b0-6430-4ef5-aad8-04fee9d88c98",
   "metadata": {},
   "outputs": [
    {
     "data": {
      "text/plain": [
       "array([0, 1, 2, 3, 4])"
      ]
     },
     "execution_count": 21,
     "metadata": {},
     "output_type": "execute_result"
    }
   ],
   "source": [
    "z = np.arange(5)\n",
    "z"
   ]
  },
  {
   "cell_type": "code",
   "execution_count": 22,
   "id": "e1350b54-0652-4db1-ba4f-d3a38d234fdc",
   "metadata": {},
   "outputs": [
    {
     "data": {
      "text/plain": [
       "array([1, 2, 3, 4, 0])"
      ]
     },
     "execution_count": 22,
     "metadata": {},
     "output_type": "execute_result"
    }
   ],
   "source": [
    "np.roll(z,-1)"
   ]
  },
  {
   "cell_type": "code",
   "execution_count": 23,
   "id": "95272f46-c68c-4602-b74d-2f85342f7272",
   "metadata": {},
   "outputs": [
    {
     "data": {
      "text/plain": [
       "array([4, 0, 1, 2, 3])"
      ]
     },
     "execution_count": 23,
     "metadata": {},
     "output_type": "execute_result"
    }
   ],
   "source": [
    "np.roll(z,1)"
   ]
  },
  {
   "cell_type": "code",
   "execution_count": null,
   "id": "25d80514-d771-46fe-9823-d784228b2eba",
   "metadata": {},
   "outputs": [],
   "source": []
  }
 ],
 "metadata": {
  "kernelspec": {
   "display_name": "CSDMS",
   "language": "python",
   "name": "csdms"
  },
  "language_info": {
   "codemirror_mode": {
    "name": "ipython",
    "version": 3
   },
   "file_extension": ".py",
   "mimetype": "text/x-python",
   "name": "python",
   "nbconvert_exporter": "python",
   "pygments_lexer": "ipython3",
   "version": "3.12.7"
  }
 },
 "nbformat": 4,
 "nbformat_minor": 5
}
